{
 "cells": [
  {
   "cell_type": "code",
   "execution_count": 1,
   "metadata": {},
   "outputs": [
    {
     "name": "stdout",
     "output_type": "stream",
     "text": [
      "Collecting google_images_download\n",
      "  Downloading https://files.pythonhosted.org/packages/7c/5a/ecc4cfb3efe5c7e83252f4dd8c6dbbba411a2d1485b3840859e2781a0b6d/google_images_download-2.5.1.tar.gz\n",
      "Collecting selenium (from google_images_download)\n",
      "  Downloading https://files.pythonhosted.org/packages/80/d6/4294f0b4bce4de0abf13e17190289f9d0613b0a44e5dd6a7f5ca98459853/selenium-3.141.0-py2.py3-none-any.whl (904kB)\n",
      "Requirement already satisfied: urllib3 in c:\\users\\user\\anaconda3\\lib\\site-packages (from selenium->google_images_download) (1.24.1)\n",
      "Building wheels for collected packages: google-images-download\n",
      "  Running setup.py bdist_wheel for google-images-download: started\n",
      "  Running setup.py bdist_wheel for google-images-download: finished with status 'done'\n",
      "  Stored in directory: C:\\Users\\User\\AppData\\Local\\pip\\Cache\\wheels\\db\\91\\54\\94ea83c9384724ef2d2f3f735b4bfcd61eda897f2c02d70838\n",
      "Successfully built google-images-download\n",
      "Installing collected packages: selenium, google-images-download\n",
      "Successfully installed google-images-download-2.5.1 selenium-3.141.0\n"
     ]
    }
   ],
   "source": [
    "!pip install google_images_download"
   ]
  },
  {
   "cell_type": "code",
   "execution_count": 1,
   "metadata": {},
   "outputs": [
    {
     "name": "stdout",
     "output_type": "stream",
     "text": [
      "\n",
      "Item no.: 1 --> Item name = Polar bears\n",
      "Evaluating...\n",
      "Starting Download...\n",
      "Image URL: https://polarbearsinternational.org/media/3315/00473-54115.jpg\n",
      "Completed Image ====> 1. 00473-54115.jpg\n",
      "Image URL: https://upload.wikimedia.org/wikipedia/commons/thumb/6/66/Polar_Bear_-_Alaska_%28cropped%29.jpg/220px-Polar_Bear_-_Alaska_%28cropped%29.jpg\n",
      "Completed Image ====> 2. 220px-Polar_Bear_-_Alaska_%28cropped%29.jpg\n",
      "Image URL: https://www.nwf.org/-/media/NEW-WEBSITE/Shared-Folder/Wildlife/Mammals/mammal_polar_bear_cubs_fighting_alaska_michael_henry_600x300.ashx\n",
      "Completed Image ====> 3. mammal_polar_bear_cubs_fighting_alaska_michael_henry_600x300.ash\n",
      "Image URL: http://www.guinnessworldrecords.com/Images/polar-bear-on-ice-header_tcm25-562282.jpg\n",
      "Completed Image ====> 4. polar-bear-on-ice-header_tcm25-562282.jpg\n",
      "Image URL: https://www.motherjones.com/wp-content/uploads/2018/12/20181211-polar-bears.jpg?w=990\n",
      "Completed Image ====> 5. 20181211-polar-bears.jpg\n",
      "\n",
      "Errors: 0\n",
      "\n",
      "{'Polar bears': ['C:\\\\Users\\\\User\\\\Desktop\\\\capston\\\\image\\\\Polar bears\\\\1. 00473-54115.jpg', 'C:\\\\Users\\\\User\\\\Desktop\\\\capston\\\\image\\\\Polar bears\\\\2. 220px-Polar_Bear_-_Alaska_%28cropped%29.jpg', 'C:\\\\Users\\\\User\\\\Desktop\\\\capston\\\\image\\\\Polar bears\\\\3. mammal_polar_bear_cubs_fighting_alaska_michael_henry_600x300.ash', 'C:\\\\Users\\\\User\\\\Desktop\\\\capston\\\\image\\\\Polar bears\\\\4. polar-bear-on-ice-header_tcm25-562282.jpg', 'C:\\\\Users\\\\User\\\\Desktop\\\\capston\\\\image\\\\Polar bears\\\\5. 20181211-polar-bears.jpg']}\n"
     ]
    }
   ],
   "source": [
    "from google_images_download import google_images_download   #importing the library\n",
    "\n",
    "response = google_images_download.googleimagesdownload()   #class instantiation\n",
    "\n",
    "arguments = {\"keywords\":\"셔츠\",\"limit\":10,\"output_directory\":'image',\"print_urls\":True}   #creating list of arguments\n",
    "paths = response.download(arguments)   #passing the arguments to the function\n",
    "print(paths)   #printing absolute paths of the downloaded images"
   ]
  },
  {
   "cell_type": "code",
   "execution_count": null,
   "metadata": {},
   "outputs": [],
   "source": []
  }
 ],
 "metadata": {
  "kernelspec": {
   "display_name": "Python 3",
   "language": "python",
   "name": "python3"
  },
  "language_info": {
   "codemirror_mode": {
    "name": "ipython",
    "version": 3
   },
   "file_extension": ".py",
   "mimetype": "text/x-python",
   "name": "python",
   "nbconvert_exporter": "python",
   "pygments_lexer": "ipython3",
   "version": "3.6.5"
  }
 },
 "nbformat": 4,
 "nbformat_minor": 2
}
